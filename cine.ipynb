{
  "cells": [
    {
      "cell_type": "code",
      "execution_count": 49,
      "metadata": {
        "id": "WxSe9lTRsfEZ"
      },
      "outputs": [],
      "source": [
        "class Persona:\n",
        "\n",
        "    lista=[]\n",
        "\n",
        "    def __init__(self,nombre,correo):\n",
        "        self.nombre=nombre\n",
        "        self.correo=correo\n",
        "\n",
        "    def registrar(self):\n",
        "        Persona.lista.append(self)\n",
        "        print(f\"La persona {self.nombre} ha sido registrada con el correo {self.correo}\")\n",
        "\n",
        "    def actualizar_datos(self,nombre,correo):\n",
        "        self.nombre=nombre\n",
        "        self.correo=correo\n",
        "        print(f\"Los datos han sido actualizados\")\n",
        "\n",
        "    @classmethod\n",
        "    def personas_registradas(cls):\n",
        "        print(\"Personas registradas\")\n",
        "        for Persona in cls.lista:\n",
        "            print(f\"-{Persona.nombre} - {Persona.correo}\")"
      ]
    },
    {
      "cell_type": "code",
      "execution_count": 50,
      "metadata": {
        "id": "K7u3AGY5sfEb"
      },
      "outputs": [],
      "source": [
        "class Usuario(Persona):\n",
        "    def __init__(self, nombre, correo):\n",
        "        super().__init__(nombre, correo)\n",
        "        self.historial_reservas = []\n",
        "\n",
        "    def reservar(self, funcion, asientos):\n",
        "        if asientos <= funcion.asientos_disponibles:\n",
        "            funcion.asientos_disponibles -= asientos\n",
        "            self.historial_reservas.append({\"funcion\": funcion, \"asientos\": asientos})\n",
        "            print(f\"Reserva realizada para '{funcion.pelicula.titulo}' en la sala {funcion.sala.identificador}.\")\n",
        "        else:\n",
        "            print(\"No hay suficientes asientos disponibles.\")\n",
        "\n",
        "    def cancelar_reserva(self, funcion):\n",
        "        reserva = next((r for r in self.historial_reservas if r[\"funcion\"] == funcion), None)\n",
        "        if reserva:\n",
        "            funcion.asientos_disponibles += reserva[\"asientos\"]\n",
        "            self.historial_reservas.remove(reserva)\n",
        "            print(f\"Reserva cancelada para '{funcion.pelicula.titulo}'.\")\n",
        "        else:\n",
        "            print(\"No tienes una reserva para esta función.\")\n",
        "\n",
        "    def ver_promociones(self, promociones):\n",
        "        if promociones:\n",
        "            print(\"Promociones disponibles:\")\n",
        "            for i, promo in enumerate(promociones, 1):\n",
        "                print(f\"{i}. {promo.descuento}% de descuento - {promo.condiciones}\")\n",
        "        else:\n",
        "            print(\"No hay promociones disponibles en este momento.\")\n",
        "    def reservar_multiple(self, funcion, asientos_lista, promocion=None):\n",
        "        total_asientos = sum(asientos_lista)\n",
        "        if total_asientos <= funcion.asientos_disponibles:\n",
        "            if promocion:\n",
        "                print(f\"Se ha aplicado un descuento del {promocion.descuento}%\")\n",
        "            \n",
        "            funcion.asientos_disponibles -= total_asientos\n",
        "            reserva = Reserva(self, funcion, total_asientos, promocion)\n",
        "            self.historial_reservas.append(reserva)\n",
        "            print(f\"Reserva múltiple realizada para '{funcion.pelicula.titulo}' en la sala {funcion.sala.identificador}.\")\n",
        "        else:\n",
        "            print(\"No hay suficientes asientos disponibles para la reserva múltiple.\")\n"
      ]
    },
    {
      "cell_type": "code",
      "execution_count": 51,
      "metadata": {
        "id": "jEwt3GWhsfEb"
      },
      "outputs": [],
      "source": [
        "class Empleado(Persona):\n",
        "    def __init__(self, nombre, correo, rol):\n",
        "        super().__init__(nombre, correo)\n",
        "        self.rol = rol\n",
        "\n",
        "    def agregar_funcion(self, funcion):\n",
        "        print(f\"Función agregada: {funcion.pelicula.titulo} a las {funcion.hora} en la sala {funcion.sala.identificador}.\")\n",
        "\n",
        "    def modificar_promocion(self, promocion, nuevo_descuento, nuevas_condiciones):\n",
        "        promocion.descuento = nuevo_descuento\n",
        "        promocion.condiciones = nuevas_condiciones\n",
        "        print(f\"Promoción modificada: {nuevo_descuento}% de descuento. {nuevas_condiciones}.\")\n",
        "\n"
      ]
    },
    {
      "cell_type": "code",
      "execution_count": 52,
      "metadata": {
        "id": "NDSuhxQUsfEc"
      },
      "outputs": [],
      "source": [
        "class Espacio:\n",
        "    def __init__(self,capacidad,identificador):\n",
        "        self.capacidad=capacidad\n",
        "        self.identificador=identificador\n",
        "\n",
        "    def descripcion(self):\n",
        "        print(f\"El edificio tiene tamaño {self.capacidad} y tiene id {self.identificador}\")"
      ]
    },
    {
      "cell_type": "code",
      "execution_count": 53,
      "metadata": {
        "id": "bZCnVj0psfEc"
      },
      "outputs": [],
      "source": [
        "class Sala(Espacio):\n",
        "    def __init__(self, capacidad, identificador, tipo):\n",
        "        super().__init__(capacidad, identificador)\n",
        "        self.tipo = tipo\n",
        "        self.disponibilidad = True\n",
        "\n",
        "    def consultar_disponibilidad(self):\n",
        "        if self.disponibilidad:\n",
        "            print(\"La sala está disponible\")\n",
        "        else:\n",
        "            print(\"La sala está ocupada\")\n",
        "\n",
        "    def consultar_capacidad(self):\n",
        "        print(f\"La sala tiene una capacidad de {self.capacidad} asientos.\")\n"
      ]
    },
    {
      "cell_type": "code",
      "execution_count": 54,
      "metadata": {
        "id": "YBB8owh3sfEc"
      },
      "outputs": [],
      "source": [
        "class Pelicula:\n",
        "    def __init__(self, titulo, genero, duracion):\n",
        "        self.titulo = titulo\n",
        "        self.genero = genero\n",
        "        self.duracion = duracion\n"
      ]
    },
    {
      "cell_type": "code",
      "execution_count": 55,
      "metadata": {
        "id": "W_kh6-EUsfEd"
      },
      "outputs": [],
      "source": [
        "class Funcion:\n",
        "    def __init__(self, pelicula, sala, hora):\n",
        "        self.pelicula = pelicula\n",
        "        self.sala = sala\n",
        "        self.hora = hora\n",
        "        self.asientos_disponibles = sala.capacidad\n",
        "\n",
        "    def mostrar(self):\n",
        "        print(f\"Proyección de '{self.pelicula.titulo}' en la sala {self.sala.identificador} ({self.sala.tipo}) a las {self.hora}.\")\n",
        "    \n",
        "    def verificar_disponibilidad(self, asientos):\n",
        "        return asientos <= self.asientos_disponibles\n",
        "\n",
        "    def asignar_asientos(self, asientos):\n",
        "        if self.verificar_disponibilidad(asientos):\n",
        "            self.asientos_disponibles -= asientos\n",
        "\n",
        "    def liberar_asientos(self, asientos):\n",
        "        self.asientos_disponibles += asientos\n"
      ]
    },
    {
      "cell_type": "code",
      "execution_count": 56,
      "metadata": {
        "id": "OiVatC1AsfEd"
      },
      "outputs": [],
      "source": [
        "class Promocion:\n",
        "    def __init__(self, descuento, condiciones):\n",
        "        self.descuento = descuento\n",
        "        self.condiciones = condiciones\n",
        "\n",
        "    def mostrar(self):\n",
        "        print(f\"Promoción: {self.descuento}% de descuento. Condiciones: {self.condiciones}\")\n",
        "\n"
      ]
    },
    {
      "cell_type": "code",
      "execution_count": 57,
      "metadata": {},
      "outputs": [],
      "source": [
        "class Reserva:\n",
        "    def __init__(self, usuario, funcion, asientos, promocion=None):\n",
        "        self.usuario = usuario\n",
        "        self.funcion = funcion\n",
        "        self.asientos = asientos\n",
        "        self.promocion = promocion\n",
        "\n",
        "    def mostrar_reserva(self):\n",
        "        descuento = f\"con {self.promocion.descuento}% de descuento\" if self.promocion else \"sin promoción\"\n",
        "        print(f\"Reserva de {self.usuario.nombre} para '{self.funcion.pelicula.titulo}' en sala {self.funcion.sala.identificador} a las {self.funcion.hora}, {descuento}.\")\n"
      ]
    },
    {
      "cell_type": "code",
      "execution_count": 58,
      "metadata": {
        "id": "VgSIOWe5sfEd",
        "outputId": "8d39f393-c0a4-4756-b71f-e1e642f1c2fd"
      },
      "outputs": [
        {
          "name": "stdout",
          "output_type": "stream",
          "text": [
            "La persona Ana Pérez ha sido registrada con el correo ana.perez@email.com\n",
            "La persona Luis Martínez ha sido registrada con el correo luis.martinez@email.com\n",
            "Reserva realizada para 'Matrix' en la sala Sala 1.\n",
            "Reserva cancelada para 'Matrix'.\n",
            "Promoción: 20% de descuento. Condiciones: Válido de lunes a jueves.\n",
            "Promoción modificada: 30% de descuento. Válido todos los días antes de las 5 PM..\n",
            "Personas registradas\n",
            "-Ana Pérez - ana.perez@email.com\n",
            "-Luis Martínez - luis.martinez@email.com\n"
          ]
        }
      ],
      "source": [
        "pelicula1 = Pelicula(\"Matrix\", \"Ciencia Ficción\", 136)\n",
        "pelicula2 = Pelicula(\"Titanic\", \"Drama/Romance\", 195)\n",
        "\n",
        "sala1 = Sala(100,\"Sala 1\",\"3DX\")\n",
        "sala2 = Sala(50,\"Sala 2\",\"Tradicional\")\n",
        "\n",
        "funcion1 = Funcion(pelicula1, sala1, \"18:00\")\n",
        "funcion2 = Funcion(pelicula2, sala2, \"20:00\")\n",
        "\n",
        "usuario1 = Usuario(\"Ana Pérez\", \"ana.perez@email.com\")\n",
        "empleado1 = Empleado(\"Luis Martínez\", \"luis.martinez@email.com\", \"Gerente\")\n",
        "\n",
        "usuario1.registrar()\n",
        "empleado1.registrar()\n",
        "\n",
        "usuario1.reservar(funcion1, 3)\n",
        "\n",
        "usuario1.cancelar_reserva(funcion1)\n",
        "\n",
        "promocion1 = Promocion(20, \"Válido de lunes a jueves.\")\n",
        "promocion1.mostrar()\n",
        "empleado1.modificar_promocion(promocion1, 30, \"Válido todos los días antes de las 5 PM.\")\n",
        "\n",
        "Persona.personas_registradas()"
      ]
    }
  ],
  "metadata": {
    "colab": {
      "provenance": []
    },
    "kernelspec": {
      "display_name": "Python 3",
      "language": "python",
      "name": "python3"
    },
    "language_info": {
      "codemirror_mode": {
        "name": "ipython",
        "version": 3
      },
      "file_extension": ".py",
      "mimetype": "text/x-python",
      "name": "python",
      "nbconvert_exporter": "python",
      "pygments_lexer": "ipython3",
      "version": "3.13.1"
    }
  },
  "nbformat": 4,
  "nbformat_minor": 0
}
