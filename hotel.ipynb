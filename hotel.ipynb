{
  "nbformat": 4,
  "nbformat_minor": 0,
  "metadata": {
    "colab": {
      "provenance": []
    },
    "kernelspec": {
      "name": "python3",
      "display_name": "Python 3"
    },
    "language_info": {
      "name": "python"
    }
  },
  "cells": [
    {
      "cell_type": "code",
      "source": [
        "class Habitacion:\n",
        "      def __init__(self,numero,tipo,precio):\n",
        "         self.numero = numero\n",
        "         self.tipo = tipo\n",
        "         self.precio = precio\n",
        "         self.reservada = False\n",
        "\n",
        "      def descripcion(self):\n",
        "          return f\"Habitacion {self.numero} ({self.tipo}) - ${self.precio}/noche\""
      ],
      "metadata": {
        "id": "Cwf3ab0guWPH"
      },
      "execution_count": null,
      "outputs": []
    },
    {
      "cell_type": "code",
      "source": [
        "habitacion = Habitacion(101, \"Doble\", 150)\n",
        "habitacion.descripcion()"
      ],
      "metadata": {
        "colab": {
          "base_uri": "https://localhost:8080/",
          "height": 52
        },
        "id": "xbB1ug3QwJnQ",
        "outputId": "627888c8-adc2-45b7-b4d5-45f849dc67f5"
      },
      "execution_count": null,
      "outputs": [
        {
          "output_type": "execute_result",
          "data": {
            "text/plain": [
              "'Habitacion 101 (Doble) - $150/noche'"
            ],
            "application/vnd.google.colaboratory.intrinsic+json": {
              "type": "string"
            }
          },
          "metadata": {},
          "execution_count": 7
        }
      ]
    },
    {
      "cell_type": "code",
      "source": [
        "reserva = Reserva(\"Juan Perez\", habitacion, datetime(2025, 1, 15), datetime(2025, 1, 20))"
      ],
      "metadata": {
        "id": "i264SQWvwWqm"
      },
      "execution_count": null,
      "outputs": []
    },
    {
      "cell_type": "code",
      "source": [
        "from datetime import datetime\n",
        "\n",
        "class Reserva:\n",
        "    def __init__(self,huesped,habitacion,fecha_inicio,fecha_fin):\n",
        "        self.huesped = huesped\n",
        "        self.habitacion = habitacion\n",
        "        self.fecha_inicio =fecha_inicio\n",
        "        self.fecha_fin = fecha_fin\n",
        "\n",
        "    def calcular_costo(self):\n",
        "        dias = (self.fecha_fin - self.fecha_inicio).days\n",
        "        return dias * self.habitacion.precio\n",
        "\n",
        "    def detalle(self):\n",
        "        costo = self.calcular_costo()\n",
        "        return (f\"reserva para {self.huesped} en habitacion {self.habitacion.numero}\"\n",
        "                f\"del {self.fecha_inicio.date()} al {self.fecha_fin.date()}\"\n",
        "                f\"-Total: ${costo}\")"
      ],
      "metadata": {
        "id": "oSS1qqyExXE6"
      },
      "execution_count": null,
      "outputs": []
    },
    {
      "cell_type": "code",
      "source": [
        "habitacion = Habitacion(101,\"doble\",150)\n",
        "reserva = Reserva(\"Juan Perez\",habitacion,datetime(2025, 1, 15), datetime(2025, 1, 20))\n",
        "print(reserva.detalle())"
      ],
      "metadata": {
        "colab": {
          "base_uri": "https://localhost:8080/"
        },
        "id": "F_i-Y596y7am",
        "outputId": "dbba80cb-1529-40d2-b596-266bf4b7ed9a"
      },
      "execution_count": null,
      "outputs": [
        {
          "output_type": "stream",
          "name": "stdout",
          "text": [
            "reserva para Juan Perez en habitacion 101del 2025-01-15 al 2025-01-20-Total: $750\n"
          ]
        }
      ]
    },
    {
      "cell_type": "code",
      "source": [],
      "metadata": {
        "id": "gfa2aBAo00QL"
      },
      "execution_count": null,
      "outputs": []
    }
  ]
}